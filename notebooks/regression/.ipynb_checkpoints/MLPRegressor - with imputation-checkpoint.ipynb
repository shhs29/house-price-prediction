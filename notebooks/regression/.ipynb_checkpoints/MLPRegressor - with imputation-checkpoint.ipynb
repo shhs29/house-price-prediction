{
 "cells": [
  {
   "cell_type": "markdown",
   "id": "608e7c7a",
   "metadata": {},
   "source": [
    "# Imports"
   ]
  },
  {
   "cell_type": "code",
   "execution_count": 129,
   "id": "83750831",
   "metadata": {},
   "outputs": [],
   "source": [
    "import pandas as pd\n",
    "import numpy as np\n",
    "import matplotlib.pyplot as plt\n",
    "import seaborn as sns\n",
    "from sklearn import preprocessing\n",
    "from sklearn.preprocessing import StandardScaler, MinMaxScaler\n",
    "from sklearn.metrics import mean_squared_log_error, mean_absolute_error\n",
    "from sklearn.neural_network import MLPRegressor\n",
    "from sklearn.preprocessing import OneHotEncoder as SklearnOneHotEncoder"
   ]
  },
  {
   "cell_type": "code",
   "execution_count": 96,
   "id": "1e747fe3",
   "metadata": {},
   "outputs": [
    {
     "data": {
      "text/html": [
       "<div>\n",
       "<style scoped>\n",
       "    .dataframe tbody tr th:only-of-type {\n",
       "        vertical-align: middle;\n",
       "    }\n",
       "\n",
       "    .dataframe tbody tr th {\n",
       "        vertical-align: top;\n",
       "    }\n",
       "\n",
       "    .dataframe thead th {\n",
       "        text-align: right;\n",
       "    }\n",
       "</style>\n",
       "<table border=\"1\" class=\"dataframe\">\n",
       "  <thead>\n",
       "    <tr style=\"text-align: right;\">\n",
       "      <th></th>\n",
       "      <th>MSSubClass</th>\n",
       "      <th>MSZoning</th>\n",
       "      <th>LotFrontage</th>\n",
       "      <th>LotArea</th>\n",
       "      <th>Street</th>\n",
       "      <th>Alley</th>\n",
       "      <th>LotShape</th>\n",
       "      <th>LandContour</th>\n",
       "      <th>Utilities</th>\n",
       "      <th>LotConfig</th>\n",
       "      <th>...</th>\n",
       "      <th>PoolArea</th>\n",
       "      <th>PoolQC</th>\n",
       "      <th>Fence</th>\n",
       "      <th>MiscFeature</th>\n",
       "      <th>MiscVal</th>\n",
       "      <th>MoSold</th>\n",
       "      <th>YrSold</th>\n",
       "      <th>SaleType</th>\n",
       "      <th>SaleCondition</th>\n",
       "      <th>SalePrice</th>\n",
       "    </tr>\n",
       "  </thead>\n",
       "  <tbody>\n",
       "    <tr>\n",
       "      <th>0</th>\n",
       "      <td>60</td>\n",
       "      <td>RL</td>\n",
       "      <td>65.0</td>\n",
       "      <td>8450</td>\n",
       "      <td>Pave</td>\n",
       "      <td>NaN</td>\n",
       "      <td>Reg</td>\n",
       "      <td>Lvl</td>\n",
       "      <td>AllPub</td>\n",
       "      <td>Inside</td>\n",
       "      <td>...</td>\n",
       "      <td>0</td>\n",
       "      <td>NaN</td>\n",
       "      <td>NaN</td>\n",
       "      <td>NaN</td>\n",
       "      <td>0</td>\n",
       "      <td>2</td>\n",
       "      <td>2008</td>\n",
       "      <td>WD</td>\n",
       "      <td>Normal</td>\n",
       "      <td>208500</td>\n",
       "    </tr>\n",
       "    <tr>\n",
       "      <th>1</th>\n",
       "      <td>20</td>\n",
       "      <td>RL</td>\n",
       "      <td>80.0</td>\n",
       "      <td>9600</td>\n",
       "      <td>Pave</td>\n",
       "      <td>NaN</td>\n",
       "      <td>Reg</td>\n",
       "      <td>Lvl</td>\n",
       "      <td>AllPub</td>\n",
       "      <td>FR2</td>\n",
       "      <td>...</td>\n",
       "      <td>0</td>\n",
       "      <td>NaN</td>\n",
       "      <td>NaN</td>\n",
       "      <td>NaN</td>\n",
       "      <td>0</td>\n",
       "      <td>5</td>\n",
       "      <td>2007</td>\n",
       "      <td>WD</td>\n",
       "      <td>Normal</td>\n",
       "      <td>181500</td>\n",
       "    </tr>\n",
       "    <tr>\n",
       "      <th>2</th>\n",
       "      <td>60</td>\n",
       "      <td>RL</td>\n",
       "      <td>68.0</td>\n",
       "      <td>11250</td>\n",
       "      <td>Pave</td>\n",
       "      <td>NaN</td>\n",
       "      <td>IR1</td>\n",
       "      <td>Lvl</td>\n",
       "      <td>AllPub</td>\n",
       "      <td>Inside</td>\n",
       "      <td>...</td>\n",
       "      <td>0</td>\n",
       "      <td>NaN</td>\n",
       "      <td>NaN</td>\n",
       "      <td>NaN</td>\n",
       "      <td>0</td>\n",
       "      <td>9</td>\n",
       "      <td>2008</td>\n",
       "      <td>WD</td>\n",
       "      <td>Normal</td>\n",
       "      <td>223500</td>\n",
       "    </tr>\n",
       "    <tr>\n",
       "      <th>3</th>\n",
       "      <td>70</td>\n",
       "      <td>RL</td>\n",
       "      <td>60.0</td>\n",
       "      <td>9550</td>\n",
       "      <td>Pave</td>\n",
       "      <td>NaN</td>\n",
       "      <td>IR1</td>\n",
       "      <td>Lvl</td>\n",
       "      <td>AllPub</td>\n",
       "      <td>Corner</td>\n",
       "      <td>...</td>\n",
       "      <td>0</td>\n",
       "      <td>NaN</td>\n",
       "      <td>NaN</td>\n",
       "      <td>NaN</td>\n",
       "      <td>0</td>\n",
       "      <td>2</td>\n",
       "      <td>2006</td>\n",
       "      <td>WD</td>\n",
       "      <td>Abnorml</td>\n",
       "      <td>140000</td>\n",
       "    </tr>\n",
       "    <tr>\n",
       "      <th>4</th>\n",
       "      <td>60</td>\n",
       "      <td>RL</td>\n",
       "      <td>84.0</td>\n",
       "      <td>14260</td>\n",
       "      <td>Pave</td>\n",
       "      <td>NaN</td>\n",
       "      <td>IR1</td>\n",
       "      <td>Lvl</td>\n",
       "      <td>AllPub</td>\n",
       "      <td>FR2</td>\n",
       "      <td>...</td>\n",
       "      <td>0</td>\n",
       "      <td>NaN</td>\n",
       "      <td>NaN</td>\n",
       "      <td>NaN</td>\n",
       "      <td>0</td>\n",
       "      <td>12</td>\n",
       "      <td>2008</td>\n",
       "      <td>WD</td>\n",
       "      <td>Normal</td>\n",
       "      <td>250000</td>\n",
       "    </tr>\n",
       "  </tbody>\n",
       "</table>\n",
       "<p>5 rows × 80 columns</p>\n",
       "</div>"
      ],
      "text/plain": [
       "   MSSubClass MSZoning  LotFrontage  LotArea Street Alley LotShape  \\\n",
       "0          60       RL         65.0     8450   Pave   NaN      Reg   \n",
       "1          20       RL         80.0     9600   Pave   NaN      Reg   \n",
       "2          60       RL         68.0    11250   Pave   NaN      IR1   \n",
       "3          70       RL         60.0     9550   Pave   NaN      IR1   \n",
       "4          60       RL         84.0    14260   Pave   NaN      IR1   \n",
       "\n",
       "  LandContour Utilities LotConfig  ... PoolArea PoolQC Fence MiscFeature  \\\n",
       "0         Lvl    AllPub    Inside  ...        0    NaN   NaN         NaN   \n",
       "1         Lvl    AllPub       FR2  ...        0    NaN   NaN         NaN   \n",
       "2         Lvl    AllPub    Inside  ...        0    NaN   NaN         NaN   \n",
       "3         Lvl    AllPub    Corner  ...        0    NaN   NaN         NaN   \n",
       "4         Lvl    AllPub       FR2  ...        0    NaN   NaN         NaN   \n",
       "\n",
       "  MiscVal MoSold  YrSold  SaleType  SaleCondition  SalePrice  \n",
       "0       0      2    2008        WD         Normal     208500  \n",
       "1       0      5    2007        WD         Normal     181500  \n",
       "2       0      9    2008        WD         Normal     223500  \n",
       "3       0      2    2006        WD        Abnorml     140000  \n",
       "4       0     12    2008        WD         Normal     250000  \n",
       "\n",
       "[5 rows x 80 columns]"
      ]
     },
     "execution_count": 96,
     "metadata": {},
     "output_type": "execute_result"
    }
   ],
   "source": [
    "train_data = pd.read_csv(\"../../inputs/train/train.csv\").drop(\"Id\", axis=1)\n",
    "train_data.head()"
   ]
  },
  {
   "cell_type": "code",
   "execution_count": 97,
   "id": "521a60c7",
   "metadata": {},
   "outputs": [
    {
     "data": {
      "text/html": [
       "<div>\n",
       "<style scoped>\n",
       "    .dataframe tbody tr th:only-of-type {\n",
       "        vertical-align: middle;\n",
       "    }\n",
       "\n",
       "    .dataframe tbody tr th {\n",
       "        vertical-align: top;\n",
       "    }\n",
       "\n",
       "    .dataframe thead th {\n",
       "        text-align: right;\n",
       "    }\n",
       "</style>\n",
       "<table border=\"1\" class=\"dataframe\">\n",
       "  <thead>\n",
       "    <tr style=\"text-align: right;\">\n",
       "      <th></th>\n",
       "      <th>Id</th>\n",
       "      <th>MSSubClass</th>\n",
       "      <th>MSZoning</th>\n",
       "      <th>LotFrontage</th>\n",
       "      <th>LotArea</th>\n",
       "      <th>Street</th>\n",
       "      <th>Alley</th>\n",
       "      <th>LotShape</th>\n",
       "      <th>LandContour</th>\n",
       "      <th>Utilities</th>\n",
       "      <th>...</th>\n",
       "      <th>ScreenPorch</th>\n",
       "      <th>PoolArea</th>\n",
       "      <th>PoolQC</th>\n",
       "      <th>Fence</th>\n",
       "      <th>MiscFeature</th>\n",
       "      <th>MiscVal</th>\n",
       "      <th>MoSold</th>\n",
       "      <th>YrSold</th>\n",
       "      <th>SaleType</th>\n",
       "      <th>SaleCondition</th>\n",
       "    </tr>\n",
       "  </thead>\n",
       "  <tbody>\n",
       "    <tr>\n",
       "      <th>0</th>\n",
       "      <td>1461</td>\n",
       "      <td>20</td>\n",
       "      <td>RH</td>\n",
       "      <td>80.0</td>\n",
       "      <td>11622</td>\n",
       "      <td>Pave</td>\n",
       "      <td>NaN</td>\n",
       "      <td>Reg</td>\n",
       "      <td>Lvl</td>\n",
       "      <td>AllPub</td>\n",
       "      <td>...</td>\n",
       "      <td>120</td>\n",
       "      <td>0</td>\n",
       "      <td>NaN</td>\n",
       "      <td>MnPrv</td>\n",
       "      <td>NaN</td>\n",
       "      <td>0</td>\n",
       "      <td>6</td>\n",
       "      <td>2010</td>\n",
       "      <td>WD</td>\n",
       "      <td>Normal</td>\n",
       "    </tr>\n",
       "    <tr>\n",
       "      <th>1</th>\n",
       "      <td>1462</td>\n",
       "      <td>20</td>\n",
       "      <td>RL</td>\n",
       "      <td>81.0</td>\n",
       "      <td>14267</td>\n",
       "      <td>Pave</td>\n",
       "      <td>NaN</td>\n",
       "      <td>IR1</td>\n",
       "      <td>Lvl</td>\n",
       "      <td>AllPub</td>\n",
       "      <td>...</td>\n",
       "      <td>0</td>\n",
       "      <td>0</td>\n",
       "      <td>NaN</td>\n",
       "      <td>NaN</td>\n",
       "      <td>Gar2</td>\n",
       "      <td>12500</td>\n",
       "      <td>6</td>\n",
       "      <td>2010</td>\n",
       "      <td>WD</td>\n",
       "      <td>Normal</td>\n",
       "    </tr>\n",
       "    <tr>\n",
       "      <th>2</th>\n",
       "      <td>1463</td>\n",
       "      <td>60</td>\n",
       "      <td>RL</td>\n",
       "      <td>74.0</td>\n",
       "      <td>13830</td>\n",
       "      <td>Pave</td>\n",
       "      <td>NaN</td>\n",
       "      <td>IR1</td>\n",
       "      <td>Lvl</td>\n",
       "      <td>AllPub</td>\n",
       "      <td>...</td>\n",
       "      <td>0</td>\n",
       "      <td>0</td>\n",
       "      <td>NaN</td>\n",
       "      <td>MnPrv</td>\n",
       "      <td>NaN</td>\n",
       "      <td>0</td>\n",
       "      <td>3</td>\n",
       "      <td>2010</td>\n",
       "      <td>WD</td>\n",
       "      <td>Normal</td>\n",
       "    </tr>\n",
       "    <tr>\n",
       "      <th>3</th>\n",
       "      <td>1464</td>\n",
       "      <td>60</td>\n",
       "      <td>RL</td>\n",
       "      <td>78.0</td>\n",
       "      <td>9978</td>\n",
       "      <td>Pave</td>\n",
       "      <td>NaN</td>\n",
       "      <td>IR1</td>\n",
       "      <td>Lvl</td>\n",
       "      <td>AllPub</td>\n",
       "      <td>...</td>\n",
       "      <td>0</td>\n",
       "      <td>0</td>\n",
       "      <td>NaN</td>\n",
       "      <td>NaN</td>\n",
       "      <td>NaN</td>\n",
       "      <td>0</td>\n",
       "      <td>6</td>\n",
       "      <td>2010</td>\n",
       "      <td>WD</td>\n",
       "      <td>Normal</td>\n",
       "    </tr>\n",
       "    <tr>\n",
       "      <th>4</th>\n",
       "      <td>1465</td>\n",
       "      <td>120</td>\n",
       "      <td>RL</td>\n",
       "      <td>43.0</td>\n",
       "      <td>5005</td>\n",
       "      <td>Pave</td>\n",
       "      <td>NaN</td>\n",
       "      <td>IR1</td>\n",
       "      <td>HLS</td>\n",
       "      <td>AllPub</td>\n",
       "      <td>...</td>\n",
       "      <td>144</td>\n",
       "      <td>0</td>\n",
       "      <td>NaN</td>\n",
       "      <td>NaN</td>\n",
       "      <td>NaN</td>\n",
       "      <td>0</td>\n",
       "      <td>1</td>\n",
       "      <td>2010</td>\n",
       "      <td>WD</td>\n",
       "      <td>Normal</td>\n",
       "    </tr>\n",
       "  </tbody>\n",
       "</table>\n",
       "<p>5 rows × 80 columns</p>\n",
       "</div>"
      ],
      "text/plain": [
       "     Id  MSSubClass MSZoning  LotFrontage  LotArea Street Alley LotShape  \\\n",
       "0  1461          20       RH         80.0    11622   Pave   NaN      Reg   \n",
       "1  1462          20       RL         81.0    14267   Pave   NaN      IR1   \n",
       "2  1463          60       RL         74.0    13830   Pave   NaN      IR1   \n",
       "3  1464          60       RL         78.0     9978   Pave   NaN      IR1   \n",
       "4  1465         120       RL         43.0     5005   Pave   NaN      IR1   \n",
       "\n",
       "  LandContour Utilities  ... ScreenPorch PoolArea PoolQC  Fence MiscFeature  \\\n",
       "0         Lvl    AllPub  ...         120        0    NaN  MnPrv         NaN   \n",
       "1         Lvl    AllPub  ...           0        0    NaN    NaN        Gar2   \n",
       "2         Lvl    AllPub  ...           0        0    NaN  MnPrv         NaN   \n",
       "3         Lvl    AllPub  ...           0        0    NaN    NaN         NaN   \n",
       "4         HLS    AllPub  ...         144        0    NaN    NaN         NaN   \n",
       "\n",
       "  MiscVal MoSold  YrSold  SaleType  SaleCondition  \n",
       "0       0      6    2010        WD         Normal  \n",
       "1   12500      6    2010        WD         Normal  \n",
       "2       0      3    2010        WD         Normal  \n",
       "3       0      6    2010        WD         Normal  \n",
       "4       0      1    2010        WD         Normal  \n",
       "\n",
       "[5 rows x 80 columns]"
      ]
     },
     "execution_count": 97,
     "metadata": {},
     "output_type": "execute_result"
    }
   ],
   "source": [
    "test_data = pd.read_csv(\"../../inputs/test/test.csv\")\n",
    "test_data.head()"
   ]
  },
  {
   "cell_type": "markdown",
   "id": "8fa4deb0",
   "metadata": {},
   "source": [
    "# Removing outliers"
   ]
  },
  {
   "cell_type": "code",
   "execution_count": 98,
   "id": "c1de9c95",
   "metadata": {},
   "outputs": [
    {
     "data": {
      "text/plain": [
       "(1456, 80)"
      ]
     },
     "execution_count": 98,
     "metadata": {},
     "output_type": "execute_result"
    }
   ],
   "source": [
    "train_data = train_data[train_data.GrLivArea < 4000]\n",
    "train_data.shape"
   ]
  },
  {
   "cell_type": "markdown",
   "id": "a835e845",
   "metadata": {},
   "source": [
    "# Missing columns in train and test data"
   ]
  },
  {
   "cell_type": "code",
   "execution_count": 99,
   "id": "2f94eba5",
   "metadata": {},
   "outputs": [
    {
     "name": "stdout",
     "output_type": "stream",
     "text": [
      "['LotFrontage', 'Alley', 'MasVnrType', 'MasVnrArea', 'BsmtQual', 'BsmtCond', 'BsmtExposure', 'BsmtFinType1', 'BsmtFinType2', 'Electrical', 'FireplaceQu', 'GarageType', 'GarageYrBlt', 'GarageFinish', 'GarageQual', 'GarageCond', 'PoolQC', 'Fence', 'MiscFeature']\n"
     ]
    }
   ],
   "source": [
    "cols_with_missing_train = [col for col in train_data.columns\n",
    "                     if train_data[col].isnull().any()]\n",
    "print(cols_with_missing_train)"
   ]
  },
  {
   "cell_type": "code",
   "execution_count": 100,
   "id": "fb4dd4dd",
   "metadata": {},
   "outputs": [
    {
     "name": "stdout",
     "output_type": "stream",
     "text": [
      "['MSZoning', 'LotFrontage', 'Alley', 'Utilities', 'Exterior1st', 'Exterior2nd', 'MasVnrType', 'MasVnrArea', 'BsmtQual', 'BsmtCond', 'BsmtExposure', 'BsmtFinType1', 'BsmtFinSF1', 'BsmtFinType2', 'BsmtFinSF2', 'BsmtUnfSF', 'TotalBsmtSF', 'BsmtFullBath', 'BsmtHalfBath', 'KitchenQual', 'Functional', 'FireplaceQu', 'GarageType', 'GarageYrBlt', 'GarageFinish', 'GarageCars', 'GarageArea', 'GarageQual', 'GarageCond', 'PoolQC', 'Fence', 'MiscFeature', 'SaleType']\n"
     ]
    }
   ],
   "source": [
    "cols_with_missing_test = [col for col in test_data.columns\n",
    "                     if test_data[col].isnull().any()]\n",
    "print(cols_with_missing_test)"
   ]
  },
  {
   "cell_type": "markdown",
   "id": "dd504994",
   "metadata": {},
   "source": [
    "# Removing missing columns in train and test"
   ]
  },
  {
   "cell_type": "code",
   "execution_count": 101,
   "id": "57ee3595",
   "metadata": {},
   "outputs": [
    {
     "data": {
      "text/plain": [
       "(1456, 47)"
      ]
     },
     "execution_count": 101,
     "metadata": {},
     "output_type": "execute_result"
    }
   ],
   "source": [
    "train_data = train_data.drop(cols_with_missing_test, axis='columns')\n",
    "train_data.shape"
   ]
  },
  {
   "cell_type": "code",
   "execution_count": 102,
   "id": "f00a2a8c",
   "metadata": {},
   "outputs": [
    {
     "data": {
      "text/plain": [
       "Index(['MSSubClass', 'LotArea', 'Street', 'LotShape', 'LandContour',\n",
       "       'LotConfig', 'LandSlope', 'Neighborhood', 'Condition1', 'Condition2',\n",
       "       'BldgType', 'HouseStyle', 'OverallQual', 'OverallCond', 'YearBuilt',\n",
       "       'YearRemodAdd', 'RoofStyle', 'RoofMatl', 'ExterQual', 'ExterCond',\n",
       "       'Foundation', 'Heating', 'HeatingQC', 'CentralAir', 'Electrical',\n",
       "       '1stFlrSF', '2ndFlrSF', 'LowQualFinSF', 'GrLivArea', 'FullBath',\n",
       "       'HalfBath', 'BedroomAbvGr', 'KitchenAbvGr', 'TotRmsAbvGrd',\n",
       "       'Fireplaces', 'PavedDrive', 'WoodDeckSF', 'OpenPorchSF',\n",
       "       'EnclosedPorch', '3SsnPorch', 'ScreenPorch', 'PoolArea', 'MiscVal',\n",
       "       'MoSold', 'YrSold', 'SaleCondition', 'SalePrice'],\n",
       "      dtype='object')"
      ]
     },
     "execution_count": 102,
     "metadata": {},
     "output_type": "execute_result"
    }
   ],
   "source": [
    "train_data.columns"
   ]
  },
  {
   "cell_type": "code",
   "execution_count": 103,
   "id": "cfff5939",
   "metadata": {},
   "outputs": [
    {
     "name": "stdout",
     "output_type": "stream",
     "text": [
      "<class 'pandas.core.frame.DataFrame'>\n",
      "Int64Index: 1456 entries, 0 to 1459\n",
      "Data columns (total 47 columns):\n",
      " #   Column         Non-Null Count  Dtype \n",
      "---  ------         --------------  ----- \n",
      " 0   MSSubClass     1456 non-null   int64 \n",
      " 1   LotArea        1456 non-null   int64 \n",
      " 2   Street         1456 non-null   object\n",
      " 3   LotShape       1456 non-null   object\n",
      " 4   LandContour    1456 non-null   object\n",
      " 5   LotConfig      1456 non-null   object\n",
      " 6   LandSlope      1456 non-null   object\n",
      " 7   Neighborhood   1456 non-null   object\n",
      " 8   Condition1     1456 non-null   object\n",
      " 9   Condition2     1456 non-null   object\n",
      " 10  BldgType       1456 non-null   object\n",
      " 11  HouseStyle     1456 non-null   object\n",
      " 12  OverallQual    1456 non-null   int64 \n",
      " 13  OverallCond    1456 non-null   int64 \n",
      " 14  YearBuilt      1456 non-null   int64 \n",
      " 15  YearRemodAdd   1456 non-null   int64 \n",
      " 16  RoofStyle      1456 non-null   object\n",
      " 17  RoofMatl       1456 non-null   object\n",
      " 18  ExterQual      1456 non-null   object\n",
      " 19  ExterCond      1456 non-null   object\n",
      " 20  Foundation     1456 non-null   object\n",
      " 21  Heating        1456 non-null   object\n",
      " 22  HeatingQC      1456 non-null   object\n",
      " 23  CentralAir     1456 non-null   object\n",
      " 24  Electrical     1455 non-null   object\n",
      " 25  1stFlrSF       1456 non-null   int64 \n",
      " 26  2ndFlrSF       1456 non-null   int64 \n",
      " 27  LowQualFinSF   1456 non-null   int64 \n",
      " 28  GrLivArea      1456 non-null   int64 \n",
      " 29  FullBath       1456 non-null   int64 \n",
      " 30  HalfBath       1456 non-null   int64 \n",
      " 31  BedroomAbvGr   1456 non-null   int64 \n",
      " 32  KitchenAbvGr   1456 non-null   int64 \n",
      " 33  TotRmsAbvGrd   1456 non-null   int64 \n",
      " 34  Fireplaces     1456 non-null   int64 \n",
      " 35  PavedDrive     1456 non-null   object\n",
      " 36  WoodDeckSF     1456 non-null   int64 \n",
      " 37  OpenPorchSF    1456 non-null   int64 \n",
      " 38  EnclosedPorch  1456 non-null   int64 \n",
      " 39  3SsnPorch      1456 non-null   int64 \n",
      " 40  ScreenPorch    1456 non-null   int64 \n",
      " 41  PoolArea       1456 non-null   int64 \n",
      " 42  MiscVal        1456 non-null   int64 \n",
      " 43  MoSold         1456 non-null   int64 \n",
      " 44  YrSold         1456 non-null   int64 \n",
      " 45  SaleCondition  1456 non-null   object\n",
      " 46  SalePrice      1456 non-null   int64 \n",
      "dtypes: int64(26), object(21)\n",
      "memory usage: 546.0+ KB\n"
     ]
    }
   ],
   "source": [
    "train_data.info()"
   ]
  },
  {
   "cell_type": "code",
   "execution_count": 104,
   "id": "7dd040bc",
   "metadata": {},
   "outputs": [
    {
     "data": {
      "text/plain": [
       "(1459, 47)"
      ]
     },
     "execution_count": 104,
     "metadata": {},
     "output_type": "execute_result"
    }
   ],
   "source": [
    "test_data = test_data.drop(cols_with_missing_test, axis='columns')\n",
    "test_data.shape"
   ]
  },
  {
   "cell_type": "markdown",
   "id": "6ebcc5b0",
   "metadata": {},
   "source": [
    "# Converting Categorical Variables to One-Hot Encoding"
   ]
  },
  {
   "cell_type": "code",
   "execution_count": 105,
   "id": "bf847334",
   "metadata": {},
   "outputs": [
    {
     "name": "stdout",
     "output_type": "stream",
     "text": [
      "(1456, 155) (1459, 144)\n"
     ]
    }
   ],
   "source": [
    "class OneHotEncoder(SklearnOneHotEncoder):\n",
    "    def __init__(self, **kwargs):\n",
    "        super(OneHotEncoder, self).__init__(**kwargs)\n",
    "        self.fit_flag = False\n",
    "\n",
    "    def fit(self, X, **kwargs):\n",
    "        out = super().fit(X)\n",
    "        self.fit_flag = True\n",
    "        return out\n",
    "\n",
    "    def transform(self, X, **kwargs):\n",
    "        sparse_matrix = super(OneHotEncoder, self).transform(X)\n",
    "        new_columns = self.get_new_columns(X=X)\n",
    "        d_out = pd.DataFrame(\n",
    "            sparse_matrix.toarray(), columns=new_columns, index=X.index\n",
    "        )\n",
    "        return d_out\n",
    "\n",
    "    def fit_transform(self, X, **kwargs):\n",
    "        self.fit(X)\n",
    "        return self.transform(X)\n",
    "\n",
    "    def get_new_columns(self, X):\n",
    "        new_columns = []\n",
    "        for i, column in enumerate(X.columns):\n",
    "            j = 0\n",
    "            while j < len(self.categories_[i]):\n",
    "                new_columns.append(f\"{column}_<{self.categories_[i][j]}>\")\n",
    "                j += 1\n",
    "        return new_columns\n",
    "\n",
    "\n",
    "def transform(data):\n",
    "    cat_columns = data.select_dtypes(include=[\"object\"]).columns\n",
    "    cat_df = data[cat_columns]\n",
    "\n",
    "    numeric_df = data.select_dtypes(include=np.number)\n",
    "\n",
    "    ohe = OneHotEncoder(categories=\"auto\", handle_unknown=\"ignore\")\n",
    "    ohe.fit(data[cat_columns])\n",
    "\n",
    "    df_processed = ohe.transform(cat_df)\n",
    "\n",
    "    df_processed_full = pd.concat([df_processed, numeric_df], axis=1)\n",
    "\n",
    "    return df_processed_full\n",
    "\n",
    "#     string_data = data.select_dtypes(include=['object'])\n",
    "#     numeric_data = data.select_dtypes(include=np.number)\n",
    "#     categorical_data = data[string_data]\n",
    "#     ohe = OneHotEncoder(categories=\"auto\", handle_unknown=\"ignore\")\n",
    "#     ohe.fit(data[string_data])\n",
    "#     df_processed = ohe.transform(categorical_data)\n",
    "#     df_processed_full = pd.concat([df_processed, numeric_data], axis=1)\n",
    "#     return df_processed_full\n",
    "\n",
    "train_final = transform(train_data)\n",
    "test_final = transform(test_data)\n",
    "\n",
    "print(train_final.shape, test_final.shape)"
   ]
  },
  {
   "cell_type": "code",
   "execution_count": 106,
   "id": "6b9e9798",
   "metadata": {},
   "outputs": [
    {
     "name": "stdout",
     "output_type": "stream",
     "text": [
      "<class 'pandas.core.frame.DataFrame'>\n",
      "Int64Index: 1456 entries, 0 to 1459\n",
      "Columns: 155 entries, Street_<Grvl> to SalePrice\n",
      "dtypes: float64(129), int64(26)\n",
      "memory usage: 1.7 MB\n"
     ]
    }
   ],
   "source": [
    "train_final.info()"
   ]
  },
  {
   "cell_type": "code",
   "execution_count": 107,
   "id": "57bda812",
   "metadata": {},
   "outputs": [
    {
     "name": "stdout",
     "output_type": "stream",
     "text": [
      "<class 'pandas.core.frame.DataFrame'>\n",
      "RangeIndex: 1459 entries, 0 to 1458\n",
      "Columns: 144 entries, Street_<Grvl> to YrSold\n",
      "dtypes: float64(118), int64(26)\n",
      "memory usage: 1.6 MB\n"
     ]
    }
   ],
   "source": [
    "test_final.info()"
   ]
  },
  {
   "cell_type": "code",
   "execution_count": 108,
   "id": "84806581",
   "metadata": {},
   "outputs": [
    {
     "name": "stdout",
     "output_type": "stream",
     "text": [
      "True\n",
      "True\n",
      "True\n",
      "True\n",
      "True\n",
      "True\n",
      "True\n",
      "True\n",
      "True\n",
      "True\n",
      "True\n",
      "True\n",
      "True\n",
      "True\n",
      "True\n",
      "True\n",
      "True\n",
      "True\n",
      "True\n",
      "True\n",
      "True\n",
      "True\n",
      "True\n",
      "True\n",
      "True\n",
      "True\n",
      "True\n",
      "True\n",
      "True\n",
      "True\n",
      "True\n",
      "True\n",
      "True\n",
      "True\n",
      "True\n",
      "True\n",
      "True\n",
      "True\n",
      "True\n",
      "True\n",
      "True\n",
      "True\n",
      "True\n",
      "True\n",
      "True\n",
      "True\n",
      "True\n",
      "True\n",
      "True\n",
      "True\n",
      "True\n",
      "True\n",
      "True\n",
      "True\n",
      "True\n",
      "True\n",
      "True\n",
      "True\n",
      "Here\n",
      "True\n",
      "Here\n",
      "True\n",
      "Here\n",
      "True\n",
      "True\n",
      "True\n",
      "True\n",
      "True\n",
      "True\n",
      "True\n",
      "True\n",
      "True\n",
      "Here\n",
      "True\n",
      "True\n",
      "True\n",
      "True\n",
      "True\n",
      "True\n",
      "True\n",
      "True\n",
      "True\n",
      "True\n",
      "True\n",
      "True\n",
      "Here\n",
      "True\n",
      "Here\n",
      "True\n",
      "Here\n",
      "True\n",
      "True\n",
      "True\n",
      "True\n",
      "True\n",
      "True\n",
      "True\n",
      "True\n",
      "True\n",
      "True\n",
      "True\n",
      "True\n",
      "True\n",
      "True\n",
      "True\n",
      "True\n",
      "True\n",
      "True\n",
      "True\n",
      "Here\n",
      "True\n",
      "True\n",
      "True\n",
      "True\n",
      "Here\n",
      "True\n",
      "True\n",
      "True\n",
      "True\n",
      "True\n",
      "True\n",
      "True\n",
      "True\n",
      "True\n",
      "True\n",
      "True\n",
      "True\n",
      "Here\n",
      "True\n",
      "True\n",
      "Here\n",
      "True\n",
      "True\n",
      "True\n",
      "True\n",
      "True\n",
      "True\n",
      "True\n",
      "True\n",
      "True\n",
      "True\n",
      "True\n",
      "True\n",
      "True\n",
      "True\n",
      "True\n",
      "True\n",
      "True\n",
      "True\n",
      "True\n",
      "True\n",
      "True\n",
      "True\n",
      "True\n",
      "True\n",
      "True\n",
      "True\n",
      "True\n",
      "True\n",
      "True\n",
      "True\n",
      "True\n",
      "True\n",
      "True\n",
      "True\n",
      "False\n",
      "<class 'pandas.core.frame.DataFrame'>\n",
      "RangeIndex: 1459 entries, 0 to 1458\n",
      "Columns: 155 entries, Street_<Grvl> to Electrical_<nan>\n",
      "dtypes: float64(129), int64(26)\n",
      "memory usage: 1.7 MB\n"
     ]
    }
   ],
   "source": [
    "for column in train_final.columns:\n",
    "    if column != 'SalePrice' and column not in test_final.columns:\n",
    "        test_final[column] = 0.0\n",
    "test_final.info()"
   ]
  },
  {
   "cell_type": "code",
   "execution_count": 112,
   "id": "ad354b79",
   "metadata": {},
   "outputs": [
    {
     "data": {
      "text/plain": [
       "Index(['Street_<Grvl>', 'Street_<Pave>', 'LotShape_<IR1>', 'LotShape_<IR2>',\n",
       "       'LotShape_<IR3>', 'LotShape_<Reg>', 'LandContour_<Bnk>',\n",
       "       'LandContour_<HLS>', 'LandContour_<Low>', 'LandContour_<Lvl>',\n",
       "       ...\n",
       "       'Condition2_<RRAn>', 'Condition2_<RRNn>', 'HouseStyle_<2.5Fin>',\n",
       "       'RoofMatl_<Membran>', 'RoofMatl_<Metal>', 'RoofMatl_<Roll>',\n",
       "       'Heating_<Floor>', 'Heating_<OthW>', 'Electrical_<Mix>',\n",
       "       'Electrical_<nan>'],\n",
       "      dtype='object', length=155)"
      ]
     },
     "execution_count": 112,
     "metadata": {},
     "output_type": "execute_result"
    }
   ],
   "source": [
    "test_final.columns"
   ]
  },
  {
   "cell_type": "markdown",
   "id": "4cb38b01",
   "metadata": {},
   "source": [
    "# Using non-null 46 features to make predictions"
   ]
  },
  {
   "cell_type": "code",
   "execution_count": 113,
   "id": "08158079",
   "metadata": {},
   "outputs": [],
   "source": [
    "final_train_data = train_final.drop('SalePrice', axis = 1)"
   ]
  },
  {
   "cell_type": "markdown",
   "id": "41ce6587",
   "metadata": {},
   "source": [
    "## Batch size - 50"
   ]
  },
  {
   "cell_type": "code",
   "execution_count": 114,
   "id": "22c8ab6f",
   "metadata": {},
   "outputs": [
    {
     "data": {
      "text/plain": [
       "MLPRegressor(batch_size=50, early_stopping=True, hidden_layer_sizes=(154, 20),\n",
       "             max_iter=2000, random_state=1)"
      ]
     },
     "execution_count": 114,
     "metadata": {},
     "output_type": "execute_result"
    }
   ],
   "source": [
    "model1 = MLPRegressor(solver='adam', early_stopping = True, hidden_layer_sizes=(154, 20), random_state=1, max_iter = 2000, batch_size=50, shuffle=True)\n",
    "model1.fit(final_train_data.values ,train_final['SalePrice'].values)"
   ]
  },
  {
   "cell_type": "code",
   "execution_count": 115,
   "id": "a91f4587",
   "metadata": {},
   "outputs": [],
   "source": [
    "pred = model1.predict(test_final[final_train_data.columns].values)"
   ]
  },
  {
   "cell_type": "code",
   "execution_count": 116,
   "id": "681436d9",
   "metadata": {},
   "outputs": [
    {
     "data": {
      "text/plain": [
       "(array([ 44158.33390457,  45959.22270662,  49630.12366328, ...,\n",
       "        492486.64259212, 557206.1257662 , 612750.10902466]),\n",
       " array([1, 1, 1, ..., 1, 1, 1]))"
      ]
     },
     "execution_count": 116,
     "metadata": {},
     "output_type": "execute_result"
    }
   ],
   "source": [
    "output = pd.DataFrame(columns=['Id', 'SalePrice'])\n",
    "output['Id'] = test_data['Id']\n",
    "output['SalePrice'] = pred\n",
    "\n",
    "np.unique(output['SalePrice'], return_index=False, return_inverse=False, return_counts=True, axis=None)"
   ]
  },
  {
   "cell_type": "code",
   "execution_count": 118,
   "id": "5c068fb4",
   "metadata": {},
   "outputs": [],
   "source": [
    "output.to_csv(\"../../outputs/output_without_null_features_config_1.csv\", index=None)"
   ]
  },
  {
   "cell_type": "markdown",
   "id": "7d527632",
   "metadata": {},
   "source": [
    "## Batch size - 100"
   ]
  },
  {
   "cell_type": "code",
   "execution_count": 119,
   "id": "e3f67f57",
   "metadata": {},
   "outputs": [
    {
     "data": {
      "text/plain": [
       "MLPRegressor(batch_size=100, early_stopping=True, hidden_layer_sizes=(154, 20),\n",
       "             max_iter=2000, random_state=1)"
      ]
     },
     "execution_count": 119,
     "metadata": {},
     "output_type": "execute_result"
    }
   ],
   "source": [
    "model2 = MLPRegressor(solver='adam', early_stopping = True, hidden_layer_sizes=(154, 20), random_state=1, max_iter = 2000, batch_size=100, shuffle=True)\n",
    "model2.fit(final_train_data.values ,train_final['SalePrice'].values)"
   ]
  },
  {
   "cell_type": "code",
   "execution_count": 120,
   "id": "84ad99ba",
   "metadata": {},
   "outputs": [],
   "source": [
    "pred = model2.predict(test_final[final_train_data.columns].values)\n",
    "output = pd.DataFrame(columns=['Id', 'SalePrice'])\n",
    "output['Id'] = test_data['Id']\n",
    "output['SalePrice'] = pred\n",
    "\n",
    "np.unique(output['SalePrice'], return_index=False, return_inverse=False, return_counts=True, axis=None)\n",
    "output.to_csv(\"../../outputs/output_without_null_features_config_2.csv\", index=None)"
   ]
  },
  {
   "cell_type": "markdown",
   "id": "59792a58",
   "metadata": {},
   "source": [
    "## Batch size - 200"
   ]
  },
  {
   "cell_type": "code",
   "execution_count": 121,
   "id": "f1b0647a",
   "metadata": {},
   "outputs": [
    {
     "data": {
      "text/plain": [
       "MLPRegressor(batch_size=200, early_stopping=True, hidden_layer_sizes=(154, 20),\n",
       "             max_iter=2000, random_state=1)"
      ]
     },
     "execution_count": 121,
     "metadata": {},
     "output_type": "execute_result"
    }
   ],
   "source": [
    "model3 = MLPRegressor(solver='adam', early_stopping = True, hidden_layer_sizes=(154, 20), random_state=1, max_iter = 2000, batch_size=200, shuffle=True)\n",
    "model3.fit(final_train_data.values ,train_final['SalePrice'].values)"
   ]
  },
  {
   "cell_type": "code",
   "execution_count": 122,
   "id": "3bd52925",
   "metadata": {},
   "outputs": [],
   "source": [
    "pred = model3.predict(test_final[final_train_data.columns].values)\n",
    "output = pd.DataFrame(columns=['Id', 'SalePrice'])\n",
    "output['Id'] = test_data['Id']\n",
    "output['SalePrice'] = pred\n",
    "\n",
    "np.unique(output['SalePrice'], return_index=False, return_inverse=False, return_counts=True, axis=None)\n",
    "output.to_csv(\"../../outputs/output_without_null_features_config_3.csv\", index=None)"
   ]
  },
  {
   "cell_type": "markdown",
   "id": "8c697e22",
   "metadata": {},
   "source": [
    "## Batch size - 400"
   ]
  },
  {
   "cell_type": "code",
   "execution_count": 123,
   "id": "8b980f71",
   "metadata": {},
   "outputs": [
    {
     "data": {
      "text/plain": [
       "MLPRegressor(batch_size=400, early_stopping=True, hidden_layer_sizes=(154, 20),\n",
       "             max_iter=2000, random_state=1)"
      ]
     },
     "execution_count": 123,
     "metadata": {},
     "output_type": "execute_result"
    }
   ],
   "source": [
    "model4 = MLPRegressor(solver='adam', early_stopping = True, hidden_layer_sizes=(154, 20), random_state=1, max_iter = 2000, batch_size=400, shuffle=True)\n",
    "model4.fit(final_train_data.values ,train_final['SalePrice'].values)"
   ]
  },
  {
   "cell_type": "code",
   "execution_count": 124,
   "id": "14a00542",
   "metadata": {},
   "outputs": [],
   "source": [
    "pred = model4.predict(test_final[final_train_data.columns].values)\n",
    "output = pd.DataFrame(columns=['Id', 'SalePrice'])\n",
    "output['Id'] = test_data['Id']\n",
    "output['SalePrice'] = pred\n",
    "\n",
    "np.unique(output['SalePrice'], return_index=False, return_inverse=False, return_counts=True, axis=None)\n",
    "output.to_csv(\"../../outputs/output_without_null_features_config_4.csv\", index=None)"
   ]
  },
  {
   "cell_type": "markdown",
   "id": "17653e56",
   "metadata": {},
   "source": [
    "## Batch size - 20"
   ]
  },
  {
   "cell_type": "code",
   "execution_count": 125,
   "id": "43a5242a",
   "metadata": {},
   "outputs": [
    {
     "data": {
      "text/plain": [
       "MLPRegressor(batch_size=20, early_stopping=True, hidden_layer_sizes=(154, 20),\n",
       "             max_iter=2000, random_state=1)"
      ]
     },
     "execution_count": 125,
     "metadata": {},
     "output_type": "execute_result"
    }
   ],
   "source": [
    "model5 = MLPRegressor(solver='adam', early_stopping = True, hidden_layer_sizes=(154, 20), random_state=1, max_iter = 2000, batch_size=20, shuffle=True)\n",
    "model5.fit(final_train_data.values ,train_final['SalePrice'].values)"
   ]
  },
  {
   "cell_type": "code",
   "execution_count": 126,
   "id": "366220fb",
   "metadata": {},
   "outputs": [],
   "source": [
    "pred = model5.predict(test_final[final_train_data.columns].values)\n",
    "output = pd.DataFrame(columns=['Id', 'SalePrice'])\n",
    "output['Id'] = test_data['Id']\n",
    "output['SalePrice'] = pred\n",
    "\n",
    "np.unique(output['SalePrice'], return_index=False, return_inverse=False, return_counts=True, axis=None)\n",
    "output.to_csv(\"../../outputs/output_without_null_features_config_5.csv\", index=None)"
   ]
  },
  {
   "cell_type": "markdown",
   "id": "8b095ce8",
   "metadata": {},
   "source": [
    "## Batch size - 10"
   ]
  },
  {
   "cell_type": "code",
   "execution_count": 127,
   "id": "8779e600",
   "metadata": {},
   "outputs": [
    {
     "data": {
      "text/plain": [
       "MLPRegressor(batch_size=10, early_stopping=True, hidden_layer_sizes=(154, 20),\n",
       "             max_iter=2000, random_state=1)"
      ]
     },
     "execution_count": 127,
     "metadata": {},
     "output_type": "execute_result"
    }
   ],
   "source": [
    "model6 = MLPRegressor(solver='adam', early_stopping = True, hidden_layer_sizes=(154, 20), random_state=1, max_iter = 2000, batch_size=10, shuffle=True)\n",
    "model6.fit(final_train_data.values ,train_final['SalePrice'].values)"
   ]
  },
  {
   "cell_type": "code",
   "execution_count": 128,
   "id": "e6471f30",
   "metadata": {},
   "outputs": [],
   "source": [
    "pred = model6.predict(test_final[final_train_data.columns].values)\n",
    "output = pd.DataFrame(columns=['Id', 'SalePrice'])\n",
    "output['Id'] = test_data['Id']\n",
    "output['SalePrice'] = pred\n",
    "\n",
    "np.unique(output['SalePrice'], return_index=False, return_inverse=False, return_counts=True, axis=None)\n",
    "output.to_csv(\"../../outputs/output_without_null_features_config_6.csv\", index=None)"
   ]
  }
 ],
 "metadata": {
  "kernelspec": {
   "display_name": "Python 3 (ipykernel)",
   "language": "python",
   "name": "python3"
  },
  "language_info": {
   "codemirror_mode": {
    "name": "ipython",
    "version": 3
   },
   "file_extension": ".py",
   "mimetype": "text/x-python",
   "name": "python",
   "nbconvert_exporter": "python",
   "pygments_lexer": "ipython3",
   "version": "3.9.7"
  }
 },
 "nbformat": 4,
 "nbformat_minor": 5
}
